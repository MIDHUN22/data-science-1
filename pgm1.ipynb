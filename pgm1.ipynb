{
  "nbformat": 4,
  "nbformat_minor": 0,
  "metadata": {
    "colab": {
      "name": "pgm1.ipynb",
      "provenance": [],
      "authorship_tag": "ABX9TyOrVibZf/SsnceWWmOmhwpK",
      "include_colab_link": true
    },
    "kernelspec": {
      "name": "python3",
      "display_name": "Python 3"
    },
    "language_info": {
      "name": "python"
    }
  },
  "cells": [
    {
      "cell_type": "markdown",
      "metadata": {
        "id": "view-in-github",
        "colab_type": "text"
      },
      "source": [
        "<a href=\"https://colab.research.google.com/github/Pranav-J-Kumar/data-science/blob/main/pgm1.ipynb\" target=\"_parent\"><img src=\"https://colab.research.google.com/assets/colab-badge.svg\" alt=\"Open In Colab\"/></a>"
      ]
    },
    {
      "cell_type": "code",
      "execution_count": 1,
      "metadata": {
        "colab": {
          "base_uri": "https://localhost:8080/"
        },
        "id": "ARgclg9jkCtU",
        "outputId": "36a835ca-a673-42f0-ef8a-6afc8494b4b1"
      },
      "outputs": [
        {
          "output_type": "stream",
          "name": "stdout",
          "text": [
            "<class 'int'>\n",
            "<class 'str'>\n",
            "<class 'list'>\n",
            "<class 'dict'>\n",
            "<class 'bool'>\n",
            "<class 'float'>\n",
            "<class 'set'>\n",
            "<class 'tuple'>\n",
            "<class 'bytes'>\n",
            "<class 'bytearray'>\n",
            "<class 'range'>\n"
          ]
        }
      ],
      "source": [
        "a=1\n",
        "print(type(a))\n",
        "b='HariMca'\n",
        "print(type(b))\n",
        "c=[1,2]\n",
        "print(type(c))\n",
        "d={1:'hari',2:'krish'}\n",
        "print(type(d))\n",
        "e=True\n",
        "print(type(e))\n",
        "f=33.01\n",
        "print(type(f))\n",
        "g={\"hari\",\"krish\"}\n",
        "print(type(g))\n",
        "h=(10,56)\n",
        "print(type(h))\n",
        "i=bytes(10)\n",
        "print(type(i))\n",
        "j=bytearray()\n",
        "print(type(j))\n",
        "k=range(4)\n",
        "print(type(k))\n",
        "\n",
        "\n"
      ]
    },
    {
      "cell_type": "code",
      "source": [
        "#list\n",
        "mca_list=['hari','giri','mca']\n",
        "print(mca_list[0])\n",
        "print(mca_list[0:2])\n",
        "print(mca_list[-2])"
      ],
      "metadata": {
        "colab": {
          "base_uri": "https://localhost:8080/"
        },
        "id": "O0IiXOF9kmjk",
        "outputId": "7dfdafe3-45dc-4802-8f1c-0db0b2971401"
      },
      "execution_count": 2,
      "outputs": [
        {
          "output_type": "stream",
          "name": "stdout",
          "text": [
            "hari\n",
            "['hari', 'giri']\n",
            "giri\n"
          ]
        }
      ]
    },
    {
      "cell_type": "code",
      "source": [
        "#dictionary\n",
        "d={1:'hari',2:'giri',3:'mca'}\n",
        "print(d)\n",
        "\n",
        "print(\"1st name is\"+d[1])\n",
        "print(\"2nd name is\"+d[3])\n",
        "\n",
        "print(d.keys())\n",
        "print(d.values())"
      ],
      "metadata": {
        "colab": {
          "base_uri": "https://localhost:8080/"
        },
        "id": "3jeGGeQZksnh",
        "outputId": "6db5d3a9-9576-4245-a37d-9f9967c885fe"
      },
      "execution_count": 3,
      "outputs": [
        {
          "output_type": "stream",
          "name": "stdout",
          "text": [
            "{1: 'hari', 2: 'giri', 3: 'mca'}\n",
            "1st name ishari\n",
            "2nd name ismca\n",
            "dict_keys([1, 2, 3])\n",
            "dict_values(['hari', 'giri', 'mca'])\n"
          ]
        }
      ]
    },
    {
      "cell_type": "code",
      "source": [
        "#tuple\n",
        "x = (\"apple\", \"banana\", \"cherry\")\n",
        "y = list(x)\n",
        "y[1] = \"kiwi\"\n",
        "x = tuple(y)\n",
        "\n",
        "print(x)"
      ],
      "metadata": {
        "colab": {
          "base_uri": "https://localhost:8080/"
        },
        "id": "NetAeyrWky67",
        "outputId": "4c216811-f37a-4be2-ece8-8f47e59dc7e5"
      },
      "execution_count": 4,
      "outputs": [
        {
          "output_type": "stream",
          "name": "stdout",
          "text": [
            "('apple', 'kiwi', 'cherry')\n"
          ]
        }
      ]
    },
    {
      "cell_type": "code",
      "source": [
        ""
      ],
      "metadata": {
        "id": "ki4vVXKLk1Qa"
      },
      "execution_count": null,
      "outputs": []
    },
    {
      "cell_type": "code",
      "source": [
        "#sets\n",
        "thisset = {\"apple\", \"banana\", \"cherry\"}\n",
        "\n",
        "thisset.add(\"orange\")\n",
        "\n",
        "print(thisset)\n",
        "\n",
        "{'cherry', 'orange', 'banana', 'apple'}"
      ],
      "metadata": {
        "colab": {
          "base_uri": "https://localhost:8080/"
        },
        "id": "ZyoC7aQNk1RM",
        "outputId": "40d80786-5cb0-4e47-db72-aaf07d4587c9"
      },
      "execution_count": 5,
      "outputs": [
        {
          "output_type": "stream",
          "name": "stdout",
          "text": [
            "{'apple', 'banana', 'cherry', 'orange'}\n"
          ]
        },
        {
          "output_type": "execute_result",
          "data": {
            "text/plain": [
              "{'apple', 'banana', 'cherry', 'orange'}"
            ]
          },
          "metadata": {},
          "execution_count": 5
        }
      ]
    },
    {
      "cell_type": "code",
      "source": [
        ""
      ],
      "metadata": {
        "colab": {
          "base_uri": "https://localhost:8080/",
          "height": 130
        },
        "id": "h7B0tqrPlCUw",
        "outputId": "0c8103d6-ea56-42fa-a145-754f22b13189"
      },
      "execution_count": 6,
      "outputs": [
        {
          "output_type": "error",
          "ename": "SyntaxError",
          "evalue": "ignored",
          "traceback": [
            "\u001b[0;36m  File \u001b[0;32m\"<ipython-input-6-5e0a0db76a43>\"\u001b[0;36m, line \u001b[0;32m1\u001b[0m\n\u001b[0;31m    function and return statement\u001b[0m\n\u001b[0m                      ^\u001b[0m\n\u001b[0;31mSyntaxError\u001b[0m\u001b[0;31m:\u001b[0m invalid syntax\n"
          ]
        }
      ]
    }
  ]
}