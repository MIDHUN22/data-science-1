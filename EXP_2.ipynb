{
  "nbformat": 4,
  "nbformat_minor": 0,
  "metadata": {
    "colab": {
      "name": "EXP 2.ipynb",
      "provenance": [],
      "collapsed_sections": [],
      "authorship_tag": "ABX9TyNWGVWapcYpcSB+Z+1CdNFv",
      "include_colab_link": true
    },
    "kernelspec": {
      "name": "python3",
      "display_name": "Python 3"
    },
    "language_info": {
      "name": "python"
    }
  },
  "cells": [
    {
      "cell_type": "markdown",
      "metadata": {
        "id": "view-in-github",
        "colab_type": "text"
      },
      "source": [
        "<a href=\"https://colab.research.google.com/github/Pranav-J-Kumar/data-science/blob/main/EXP_2.ipynb\" target=\"_parent\"><img src=\"https://colab.research.google.com/assets/colab-badge.svg\" alt=\"Open In Colab\"/></a>"
      ]
    },
    {
      "cell_type": "code",
      "metadata": {
        "colab": {
          "base_uri": "https://localhost:8080/"
        },
        "id": "Id_nLwlHE5Gg",
        "outputId": "cfa03fc5-309c-4eff-971a-04b0ad31a092"
      },
      "source": [
        "# Importing library\n",
        "import numpy as np\n",
        "  \n",
        "# Creating two 2-D matrix\n",
        "matrix1 = np.array([[1, 3], [2, 6]])\n",
        "matrix2 = np.array([[0, 1], [1, 9]])\n",
        "print(\"Original 2-D matrix:\")\n",
        "print(matrix1)\n",
        "print(matrix2)\n",
        "  \n",
        "# Output\n",
        "print(\"Outer Product of the two matrix is:\")\n",
        "result = np.outer(matrix1, matrix2)\n",
        "print(result)"
      ],
      "execution_count": 1,
      "outputs": [
        {
          "output_type": "stream",
          "name": "stdout",
          "text": [
            "Original 2-D matrix:\n",
            "[[1 3]\n",
            " [2 6]]\n",
            "[[0 1]\n",
            " [1 9]]\n",
            "Outer Product of the two matrix is:\n",
            "[[ 0  1  1  9]\n",
            " [ 0  3  3 27]\n",
            " [ 0  2  2 18]\n",
            " [ 0  6  6 54]]\n"
          ]
        }
      ]
    },
    {
      "cell_type": "code",
      "metadata": {
        "colab": {
          "base_uri": "https://localhost:8080/"
        },
        "id": "OYQapDLwFMbj",
        "outputId": "5fb2601f-54c1-4fb9-b974-e35238a690d5"
      },
      "source": [
        "import numpy as np\n",
        "  \n",
        "a = [[1, 0], [0, 1]]\n",
        "b = [[4, 1], [2, 2]]\n",
        "np.dot(a, b)"
      ],
      "execution_count": 2,
      "outputs": [
        {
          "output_type": "execute_result",
          "data": {
            "text/plain": [
              "array([[4, 1],\n",
              "       [2, 2]])"
            ]
          },
          "metadata": {},
          "execution_count": 2
        }
      ]
    },
    {
      "cell_type": "code",
      "metadata": {
        "colab": {
          "base_uri": "https://localhost:8080/"
        },
        "id": "wiWayWpwGj5L",
        "outputId": "33e428ea-4728-4667-ff1a-3f29bb890ff7"
      },
      "source": [
        "import numpy as np \n",
        "       \n",
        "# 2D array  \n",
        "arr = [[14, 17, 12, 33, 44],   \n",
        "       [15, 6, 27, 8, 19],  \n",
        "       [23, 2, 54, 1, 4,]]  \n",
        "   \n",
        "print(\"\\nSum of arr : \", np.sum(arr)) \n",
        "print(\"Sum of arr(axis = 0) : \", np.sum(arr, axis = 0)) \n",
        "print(\"Sum of arr(axis = 1) : \", np.sum(arr, axis = 1))\n",
        "  \n",
        "print(\"\\nSum of arr (keepdimension is True): \\n\",\n",
        "      np.sum(arr, axis = 1, keepdims = True))"
      ],
      "execution_count": 3,
      "outputs": [
        {
          "output_type": "stream",
          "name": "stdout",
          "text": [
            "\n",
            "Sum of arr :  279\n",
            "Sum of arr(axis = 0) :  [52 25 93 42 67]\n",
            "Sum of arr(axis = 1) :  [120  75  84]\n",
            "\n",
            "Sum of arr (keepdimension is True): \n",
            " [[120]\n",
            " [ 75]\n",
            " [ 84]]\n"
          ]
        }
      ]
    },
    {
      "cell_type": "code",
      "metadata": {
        "colab": {
          "base_uri": "https://localhost:8080/"
        },
        "id": "ZsjH3BzGICjt",
        "outputId": "149f1b08-c16a-4ff0-a885-f652af7d3ee9"
      },
      "source": [
        "import numpy as geek\n",
        "  \n",
        "in_arr1 = geek.array([[2, -7, 5], [-6, 2, 0]])\n",
        "in_arr2 = geek.array([[0, -7, 8], [5, -2, 9]])\n",
        "   \n",
        "print (\"1st Input array : \", in_arr1)\n",
        "print (\"2nd Input array : \", in_arr2)\n",
        "   \n",
        "    \n",
        "out_arr = geek.multiply(in_arr1, in_arr2) \n",
        "print (\"Resultant output array: \", out_arr) "
      ],
      "execution_count": 4,
      "outputs": [
        {
          "output_type": "stream",
          "name": "stdout",
          "text": [
            "1st Input array :  [[ 2 -7  5]\n",
            " [-6  2  0]]\n",
            "2nd Input array :  [[ 0 -7  8]\n",
            " [ 5 -2  9]]\n",
            "Resultant output array:  [[  0  49  40]\n",
            " [-30  -4   0]]\n"
          ]
        }
      ]
    }
  ]
}