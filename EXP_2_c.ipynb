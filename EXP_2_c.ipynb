{
  "nbformat": 4,
  "nbformat_minor": 0,
  "metadata": {
    "colab": {
      "name": "EXP 2 c.ipynb",
      "provenance": [],
      "authorship_tag": "ABX9TyOBy4yLrF60KBy7X12egv6Y",
      "include_colab_link": true
    },
    "kernelspec": {
      "name": "python3",
      "display_name": "Python 3"
    },
    "language_info": {
      "name": "python"
    }
  },
  "cells": [
    {
      "cell_type": "markdown",
      "metadata": {
        "id": "view-in-github",
        "colab_type": "text"
      },
      "source": [
        "<a href=\"https://colab.research.google.com/github/Pranav-J-Kumar/data-science/blob/main/EXP_2_c.ipynb\" target=\"_parent\"><img src=\"https://colab.research.google.com/assets/colab-badge.svg\" alt=\"Open In Colab\"/></a>"
      ]
    },
    {
      "cell_type": "code",
      "metadata": {
        "colab": {
          "base_uri": "https://localhost:8080/"
        },
        "id": "ApbNWo-CaXqk",
        "outputId": "7b325254-26dc-4ce2-9064-ba54e7deced6"
      },
      "source": [
        "# Singular-value decomposition\n",
        "from numpy import array\n",
        "from scipy.linalg import svd\n",
        "# define a matrix\n",
        "print(\"Array is:\")\n",
        "A = array([[1, 2], [3, 4], [5, 6]])\n",
        "print(A)\n",
        "# SVD\n",
        "U, s, VT = svd(A)\n",
        "print(\"U\")\n",
        "print(U)\n",
        "print(\"S\")\n",
        "print(s)\n",
        "print(\"VT\")\n",
        "print(VT)"
      ],
      "execution_count": 1,
      "outputs": [
        {
          "output_type": "stream",
          "name": "stdout",
          "text": [
            "Array is:\n",
            "[[1 2]\n",
            " [3 4]\n",
            " [5 6]]\n",
            "U\n",
            "[[-0.2298477   0.88346102  0.40824829]\n",
            " [-0.52474482  0.24078249 -0.81649658]\n",
            " [-0.81964194 -0.40189603  0.40824829]]\n",
            "S\n",
            "[9.52551809 0.51430058]\n",
            "VT\n",
            "[[-0.61962948 -0.78489445]\n",
            " [-0.78489445  0.61962948]]\n"
          ]
        }
      ]
    }
  ]
}