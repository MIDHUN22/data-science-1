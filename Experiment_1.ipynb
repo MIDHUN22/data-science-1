{
  "nbformat": 4,
  "nbformat_minor": 0,
  "metadata": {
    "colab": {
      "name": "Experiment 1.ipynb",
      "provenance": [],
      "collapsed_sections": [],
      "authorship_tag": "ABX9TyNMs449PKvveCtcLDbX84pr",
      "include_colab_link": true
    },
    "kernelspec": {
      "name": "python3",
      "display_name": "Python 3"
    },
    "language_info": {
      "name": "python"
    }
  },
  "cells": [
    {
      "cell_type": "markdown",
      "metadata": {
        "id": "view-in-github",
        "colab_type": "text"
      },
      "source": [
        "<a href=\"https://colab.research.google.com/github/Pranav-J-Kumar/data-science/blob/main/Experiment_1.ipynb\" target=\"_parent\"><img src=\"https://colab.research.google.com/assets/colab-badge.svg\" alt=\"Open In Colab\"/></a>"
      ]
    },
    {
      "cell_type": "code",
      "metadata": {
        "colab": {
          "base_uri": "https://localhost:8080/"
        },
        "id": "Sdo-d6GGUvHt",
        "outputId": "a7543fe6-a9df-4392-88c2-aa1a55b7a95e"
      },
      "source": [
        "\n",
        "\n",
        "x = 6\n",
        "print(\"Type of x is:\\n\", type(x))\n",
        "  \n",
        "y = 9.3\n",
        "print(\"\\nType of y is:\\n\", type(y))\n",
        "  \n",
        "z = 1 + 2j\n",
        "print(\"\\nType of z is:\\n\", type(z))\n",
        "\n",
        "p=\"Pranav\"\n",
        "print(\"\\nType of p is:\\n\", type(p))\n",
        "\n",
        "l=[\"data science\"]\n",
        "print(\"\\nType of l is:\\n\", type(l))\n",
        "\n",
        "t=(\"god\",\"is\",\"love\")\n",
        "print(\"\\nType of t is:\\n\", type(t))\n",
        "\n",
        "print (type(True))\n",
        "\n",
        "d={10:\"Hello\",100:\"world\"}\n",
        "print(\"\\nType of d is:\\n\", type(d))"
      ],
      "execution_count": 19,
      "outputs": [
        {
          "output_type": "stream",
          "name": "stdout",
          "text": [
            "Type of x is:\n",
            " <class 'int'>\n",
            "\n",
            "Type of y is:\n",
            " <class 'float'>\n",
            "\n",
            "Type of z is:\n",
            " <class 'complex'>\n",
            "\n",
            "Type of p is:\n",
            " <class 'str'>\n",
            "\n",
            "Type of l is:\n",
            " <class 'list'>\n",
            "\n",
            "Type of t is:\n",
            " <class 'tuple'>\n",
            "<class 'bool'>\n",
            "\n",
            "Type of d is:\n",
            " <class 'dict'>\n"
          ]
        }
      ]
    },
    {
      "cell_type": "code",
      "metadata": {
        "colab": {
          "base_uri": "https://localhost:8080/"
        },
        "id": "su3fWvL-fthG",
        "outputId": "a3d2de2c-9854-4182-cc10-9e31fde4bd79"
      },
      "source": [
        "\n",
        "\n",
        "\n",
        "list =[\"HELLO\",\"WORLD\"]\n",
        "print(\"list is:\\n\",list)\n",
        "print(\"length of list is:\\n\",len(list))\n",
        "print(\"First term in the list is:\\n\",list[0])\n",
        "print(\"Negative index in the list is:\\n\",list[-1])\n",
        "\n",
        "Tuple=(\"GOOD\",\"MORNING\",\"EVERYONE\")\n",
        "print(\"Tuple is:\\n\",Tuple)"
      ],
      "execution_count": 21,
      "outputs": [
        {
          "output_type": "stream",
          "name": "stdout",
          "text": [
            "list is:\n",
            " ['HELLO', 'WORLD']\n",
            "length of list is:\n",
            " 2\n",
            "First term in the list is:\n",
            " HELLO\n",
            "Negative index in the list is:\n",
            " WORLD\n",
            "Tuple is:\n",
            " ('GOOD', 'MORNING', 'EVERYONE')\n"
          ]
        }
      ]
    },
    {
      "cell_type": "markdown",
      "metadata": {
        "id": "hiFvpRL_aTjn"
      },
      "source": [
        ""
      ]
    },
    {
      "cell_type": "code",
      "metadata": {
        "id": "Oq0lnYjvaNCd"
      },
      "source": [
        ""
      ],
      "execution_count": null,
      "outputs": []
    }
  ]
}