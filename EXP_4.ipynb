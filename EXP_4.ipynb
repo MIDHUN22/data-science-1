{
  "nbformat": 4,
  "nbformat_minor": 0,
  "metadata": {
    "colab": {
      "name": "EXP 4.ipynb",
      "provenance": [],
      "authorship_tag": "ABX9TyOE+sMX8PTj9/ZX8PDoYNhr",
      "include_colab_link": true
    },
    "kernelspec": {
      "name": "python3",
      "display_name": "Python 3"
    },
    "language_info": {
      "name": "python"
    }
  },
  "cells": [
    {
      "cell_type": "markdown",
      "metadata": {
        "id": "view-in-github",
        "colab_type": "text"
      },
      "source": [
        "<a href=\"https://colab.research.google.com/github/Pranav-J-Kumar/data-science/blob/main/EXP_4.ipynb\" target=\"_parent\"><img src=\"https://colab.research.google.com/assets/colab-badge.svg\" alt=\"Open In Colab\"/></a>"
      ]
    },
    {
      "cell_type": "code",
      "metadata": {
        "colab": {
          "base_uri": "https://localhost:8080/"
        },
        "id": "dU0mUn92MLZL",
        "outputId": "6551a975-da70-442b-c358-6992a6ceb827"
      },
      "source": [
        "import pandas as pd\n",
        "import numpy as np\n",
        "import matplotlib.pyplot as plt\n",
        "import seaborn as sns\n",
        "from scipy import stats\n",
        "\n",
        "movies=pd.read_csv(\"IMDb movies.csv.zip\")\n",
        "print(movies.head(5))"
      ],
      "execution_count": 10,
      "outputs": [
        {
          "output_type": "stream",
          "name": "stdout",
          "text": [
            "  imdb_title_id  ... reviews_from_critics\n",
            "0     tt0000009  ...                  2.0\n",
            "1     tt0000574  ...                  7.0\n",
            "2     tt0001892  ...                  2.0\n",
            "3     tt0002101  ...                  3.0\n",
            "4     tt0002130  ...                 14.0\n",
            "\n",
            "[5 rows x 22 columns]\n"
          ]
        },
        {
          "output_type": "stream",
          "name": "stderr",
          "text": [
            "/usr/local/lib/python3.7/dist-packages/IPython/core/interactiveshell.py:2718: DtypeWarning: Columns (3) have mixed types.Specify dtype option on import or set low_memory=False.\n",
            "  interactivity=interactivity, compiler=compiler, result=result)\n"
          ]
        }
      ]
    },
    {
      "cell_type": "code",
      "metadata": {
        "colab": {
          "base_uri": "https://localhost:8080/"
        },
        "id": "jTYwbPnudrng",
        "outputId": "eaf63ba9-57f8-4009-dab2-6ee5a8a52562"
      },
      "source": [
        "import pandas as pd\n",
        "import numpy as np\n",
        "import matplotlib.pyplot as plt\n",
        "import seaborn as sns\n",
        "from scipy import stats\n",
        "\n",
        "movies=pd.read_csv(\"IMDb ratings.csv.zip\")\n",
        "print(movies.head(5))"
      ],
      "execution_count": 11,
      "outputs": [
        {
          "output_type": "stream",
          "name": "stdout",
          "text": [
            "  imdb_title_id  ...  non_us_voters_votes\n",
            "0     tt0000009  ...                 70.0\n",
            "1     tt0000574  ...                331.0\n",
            "2     tt0001892  ...                123.0\n",
            "3     tt0002101  ...                105.0\n",
            "4     tt0002130  ...               1166.0\n",
            "\n",
            "[5 rows x 49 columns]\n"
          ]
        }
      ]
    },
    {
      "cell_type": "code",
      "metadata": {
        "colab": {
          "base_uri": "https://localhost:8080/"
        },
        "id": "yhaNC2lmd1e5",
        "outputId": "af903bb2-7dee-4236-f91d-184d252d79c9"
      },
      "source": [
        "import pandas as pd\n",
        "import numpy as np\n",
        "import matplotlib.pyplot as plt\n",
        "import seaborn as sns\n",
        "from scipy import stats\n",
        "\n",
        "movies=pd.read_csv(\"IMDb title_principals.csv.zip\")\n",
        "print(movies.head(5))"
      ],
      "execution_count": 13,
      "outputs": [
        {
          "output_type": "stream",
          "name": "stdout",
          "text": [
            "  imdb_title_id  ...                                         characters\n",
            "0     tt0000009  ...           [\"Miss Geraldine Holbrook (Miss Jerry)\"]\n",
            "1     tt0000009  ...                                   [\"Mr. Hamilton\"]\n",
            "2     tt0000009  ...  [\"Chauncey Depew - the Director of the New Yor...\n",
            "3     tt0000009  ...                                                NaN\n",
            "4     tt0000574  ...                                     [\"Kate Kelly\"]\n",
            "\n",
            "[5 rows x 6 columns]\n"
          ]
        }
      ]
    },
    {
      "cell_type": "code",
      "metadata": {
        "colab": {
          "base_uri": "https://localhost:8080/"
        },
        "id": "IDaLyA9-d9BW",
        "outputId": "ca0a7878-805a-41ce-bfd9-9bc874dadc09"
      },
      "source": [
        "import pandas as pd\n",
        "import numpy as np\n",
        "import matplotlib.pyplot as plt\n",
        "import seaborn as sns\n",
        "from scipy import stats\n",
        "\n",
        "movies=pd.read_csv(\"IMDb names.csv.zip\")\n",
        "print(movies.head(5))"
      ],
      "execution_count": 14,
      "outputs": [
        {
          "output_type": "stream",
          "name": "stdout",
          "text": [
            "  imdb_name_id             name  ... spouses_with_children  children\n",
            "0    nm0000001     Fred Astaire  ...                     1         2\n",
            "1    nm0000002    Lauren Bacall  ...                     2         3\n",
            "2    nm0000003  Brigitte Bardot  ...                     1         1\n",
            "3    nm0000004     John Belushi  ...                     0         0\n",
            "4    nm0000005   Ingmar Bergman  ...                     5         8\n",
            "\n",
            "[5 rows x 17 columns]\n"
          ]
        }
      ]
    },
    {
      "cell_type": "code",
      "metadata": {
        "colab": {
          "base_uri": "https://localhost:8080/"
        },
        "id": "MaEpQclLeC18",
        "outputId": "0e5f5a3c-fef5-47e1-808c-515facdef771"
      },
      "source": [
        "#check the column names\n",
        "print(\"column names:%s\"%movies.columns.values)"
      ],
      "execution_count": 16,
      "outputs": [
        {
          "output_type": "stream",
          "name": "stdout",
          "text": [
            "column names:['imdb_name_id' 'name' 'birth_name' 'height' 'bio' 'birth_details'\n",
            " 'date_of_birth' 'place_of_birth' 'death_details' 'date_of_death'\n",
            " 'place_of_death' 'reason_of_death' 'spouses_string' 'spouses' 'divorces'\n",
            " 'spouses_with_children' 'children']\n"
          ]
        }
      ]
    },
    {
      "cell_type": "code",
      "metadata": {
        "colab": {
          "base_uri": "https://localhost:8080/"
        },
        "id": "S7khIr55enS2",
        "outputId": "621f44f5-8873-4e12-8f70-6e37d70a6801"
      },
      "source": [
        "#discriptive ststistics\n",
        "print(movies.describe())"
      ],
      "execution_count": 17,
      "outputs": [
        {
          "output_type": "stream",
          "name": "stdout",
          "text": [
            "             height        spouses  ...  spouses_with_children       children\n",
            "count  44681.000000  297705.000000  ...          297705.000000  297705.000000\n",
            "mean     175.007162       0.208690  ...               0.104866       0.196439\n",
            "std       14.055496       0.570208  ...               0.349762       0.721257\n",
            "min       20.000000       0.000000  ...               0.000000       0.000000\n",
            "25%      168.000000       0.000000  ...               0.000000       0.000000\n",
            "50%      175.000000       0.000000  ...               0.000000       0.000000\n",
            "75%      183.000000       0.000000  ...               0.000000       0.000000\n",
            "max      990.000000      12.000000  ...               6.000000      16.000000\n",
            "\n",
            "[8 rows x 5 columns]\n"
          ]
        }
      ]
    },
    {
      "cell_type": "code",
      "metadata": {
        "colab": {
          "base_uri": "https://localhost:8080/"
        },
        "id": "JY9s8d-me9_N",
        "outputId": "e6596858-c85e-4fd2-81dd-553bea5361e8"
      },
      "source": [
        "#check the null data\n",
        "print(\"null values:\\n\")\n",
        "print(movies.isna())\n",
        "print(movies.isna().sum())\n",
        "print(\"null values:%s\" %movies.isnull().values.any())\n",
        "print(\"total null values %d\" %movies.isna().sum().sum())\n",
        "print(movies.describe())"
      ],
      "execution_count": 18,
      "outputs": [
        {
          "output_type": "stream",
          "name": "stdout",
          "text": [
            "null values:\n",
            "\n",
            "        imdb_name_id   name  ...  spouses_with_children  children\n",
            "0              False  False  ...                  False     False\n",
            "1              False  False  ...                  False     False\n",
            "2              False  False  ...                  False     False\n",
            "3              False  False  ...                  False     False\n",
            "4              False  False  ...                  False     False\n",
            "...              ...    ...  ...                    ...       ...\n",
            "297700         False  False  ...                  False     False\n",
            "297701         False  False  ...                  False     False\n",
            "297702         False  False  ...                  False     False\n",
            "297703         False  False  ...                  False     False\n",
            "297704         False  False  ...                  False     False\n",
            "\n",
            "[297705 rows x 17 columns]\n",
            "imdb_name_id                  0\n",
            "name                          0\n",
            "birth_name                    0\n",
            "height                   253024\n",
            "bio                       93007\n",
            "birth_details            187093\n",
            "date_of_birth            187093\n",
            "place_of_birth           193713\n",
            "death_details            257772\n",
            "date_of_death            257772\n",
            "place_of_death           260667\n",
            "reason_of_death          275011\n",
            "spouses_string           252353\n",
            "spouses                       0\n",
            "divorces                      0\n",
            "spouses_with_children         0\n",
            "children                      0\n",
            "dtype: int64\n",
            "null values:True\n",
            "total null values 2217505\n",
            "             height        spouses  ...  spouses_with_children       children\n",
            "count  44681.000000  297705.000000  ...          297705.000000  297705.000000\n",
            "mean     175.007162       0.208690  ...               0.104866       0.196439\n",
            "std       14.055496       0.570208  ...               0.349762       0.721257\n",
            "min       20.000000       0.000000  ...               0.000000       0.000000\n",
            "25%      168.000000       0.000000  ...               0.000000       0.000000\n",
            "50%      175.000000       0.000000  ...               0.000000       0.000000\n",
            "75%      183.000000       0.000000  ...               0.000000       0.000000\n",
            "max      990.000000      12.000000  ...               6.000000      16.000000\n",
            "\n",
            "[8 rows x 5 columns]\n"
          ]
        }
      ]
    }
  ]
}